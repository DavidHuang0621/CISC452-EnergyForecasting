{
 "cells": [
  {
   "cell_type": "code",
   "execution_count": null,
   "metadata": {},
   "outputs": [],
   "source": [
    "# Import libraries\n",
    "import pandas as pd\n",
    "import numpy as np"
   ]
  },
  {
   "cell_type": "code",
   "execution_count": null,
   "metadata": {},
   "outputs": [],
   "source": [
    "df = pd.read_csv('../Data/HomeC.csv', low_memory=False)\n",
    "df.head()"
   ]
  },
  {
   "cell_type": "code",
   "execution_count": null,
   "metadata": {},
   "outputs": [],
   "source": [
    "df.tail() # Note last column needs to be removed"
   ]
  },
  {
   "cell_type": "markdown",
   "metadata": {},
   "source": [
    "## Basic EDA"
   ]
  },
  {
   "cell_type": "code",
   "execution_count": null,
   "metadata": {},
   "outputs": [],
   "source": [
    "# Print columns and check general information about columns\n",
    "df.info() # 503911 by 32"
   ]
  },
  {
   "cell_type": "code",
   "execution_count": null,
   "metadata": {},
   "outputs": [],
   "source": [
    "# Check null values\n",
    "df.isnull().sum() # Last row"
   ]
  },
  {
   "cell_type": "code",
   "execution_count": null,
   "metadata": {},
   "outputs": [],
   "source": [
    "# Check categorical columns\n",
    "print(df.summary.value_counts())\n",
    "print(df.icon.value_counts())\n",
    "print(df.cloudCover.value_counts())"
   ]
  },
  {
   "cell_type": "markdown",
   "metadata": {},
   "source": [
    "## Begin Preprocessing\n",
    "Steps:\n",
    "1. Cleaning column names\n",
    "2. Remove tailing row (source of NAs)\n",
    "3. Encode categorical variables (icon, summary, cloudCover) \n",
    "    LightGBM is good at handling integer-encoded categorical variables\n",
    "4. Heat map\n",
    "5. Averaging some columns (Check correlation)\n",
    "6. Remove highly correlated data (use, house overall)\n",
    "7. Convert datetime (From seconds to minutes)\n",
    "8. Set index to time\n",
    "9. Resampling (Optional / hourly)\n",
    "10. Visualizations "
   ]
  },
  {
   "cell_type": "code",
   "execution_count": null,
   "metadata": {},
   "outputs": [],
   "source": [
    "# 1, 2\n",
    "df.columns = [i.replace(' [kW]', '') for i in df.columns]\n",
    "df = df[0:-1]"
   ]
  },
  {
   "cell_type": "code",
   "execution_count": null,
   "metadata": {},
   "outputs": [],
   "source": [
    "# 3. Encode 'icon' and 'summary' using sklearn label encoder\n",
    "# Encode cloudCover with next valid value\n",
    "from sklearn import preprocessing\n",
    "LE = preprocessing.LabelEncoder()\n",
    "df.icon = LE.fit_transform(df.icon).astype('float')\n",
    "df.summary = LE.fit_transform(df.summary).astype('float')\n",
    "df.cloudCover.replace(['cloudCover'], method='bfill', inplace=True)\n",
    "df.cloudCover = df.cloudCover.astype('float')\n",
    "\n",
    "# Confirm chnages\n",
    "df.info()"
   ]
  },
  {
   "cell_type": "code",
   "execution_count": null,
   "metadata": {},
   "outputs": [],
   "source": [
    "# 4. Generate heatmap to see feature correlations\n",
    "from matplotlib import pyplot as plt\n",
    "import seaborn as sns\n",
    "fig = plt.subplots(figsize=(10, 8)) \n",
    "corr = df.corr()\n",
    "sns.heatmap(corr, vmax=1, vmin=-1, center=0, cmap=\"viridis\")\n",
    "plt.show()"
   ]
  },
  {
   "cell_type": "markdown",
   "metadata": {},
   "source": [
    "- Remove House overall and Solar as they are highly correlated to use and gen respectively\n",
    "- Kitchen and furnace variables are not highly correlated therefore can keep\n"
   ]
  },
  {
   "cell_type": "code",
   "execution_count": null,
   "metadata": {},
   "outputs": [],
   "source": [
    "# 5. no longer needed\n",
    "# 6. Drop highly correlated features\n",
    "df.drop(['House overall', 'Solar'], axis=1, inplace=True)"
   ]
  },
  {
   "cell_type": "code",
   "execution_count": null,
   "metadata": {},
   "outputs": [],
   "source": [
    "# 7. Convert datetime (From seconds to minutes)\n",
    "# 8. Add more time features (year not needed)\n",
    "df['time'] = pd.DatetimeIndex(pd.date_range('2016-01-01 05:00', periods=len(df),  freq='min'))\n",
    "df['month'] = df['time'].apply(lambda x : x.month) \n",
    "df['day'] = df['time'].apply(lambda x : x.day)\n",
    "df['weekday'] = df['time'].apply(lambda x : x.day_name())\n",
    "df['weekday'] = LE.fit_transform(df['weekday']).astype('float')\n",
    "df['weekofyear'] = df['time'].apply(lambda x : x.weekofyear)\n",
    "df['hour'] = df['time'].apply(lambda x : x.hour)\n",
    "df['minute'] = df['time'].apply(lambda x : x.minute)\n",
    "df.head(5)"
   ]
  },
  {
   "cell_type": "code",
   "execution_count": null,
   "metadata": {},
   "outputs": [],
   "source": [
    "# 9. Resampling (Optional / hourly)\n",
    "# 10. Visualizations"
   ]
  },
  {
   "cell_type": "code",
   "execution_count": null,
   "metadata": {},
   "outputs": [],
   "source": [
    "# Modeling"
   ]
  },
  {
   "cell_type": "code",
   "execution_count": null,
   "metadata": {},
   "outputs": [],
   "source": [
    "# Resample data to hourly\n",
    "resampled_df = df.set_index('time')\n",
    "resampled_df = resampled_df.resample('H').mean()\n",
    "resampled_df.shape"
   ]
  },
  {
   "cell_type": "code",
   "execution_count": null,
   "metadata": {},
   "outputs": [],
   "source": [
    "# Create 80,10,10 train test validation split\n",
    "target = 'use'\n",
    "\n",
    "# Split data\n",
    "train = resampled_df[0:int(len(resampled_df)*0.8)]\n",
    "valid = resampled_df[int(len(resampled_df)*0.8):int(len(resampled_df)*0.9)]\n",
    "test = resampled_df[int(len(resampled_df)*0.9):]\n",
    "\n",
    "# Create X and Y\n",
    "X_train, Y_train = train.drop([target], axis=1), train[target]\n",
    "X_valid, Y_valid = valid.drop([target], axis=1), valid[target]\n",
    "X_test, Y_test = test.drop([target], axis=1), test[target]"
   ]
  },
  {
   "cell_type": "code",
   "execution_count": null,
   "metadata": {},
   "outputs": [],
   "source": [
    "# Import light gbm and build model\n",
    "import lightgbm as lgb\n",
    "lgb_train = lgb.Dataset(X_train, Y_train)\n",
    "lgb_valid = lgb.Dataset(X_valid, Y_valid, reference=lgb_train)"
   ]
  },
  {
   "cell_type": "code",
   "execution_count": null,
   "metadata": {},
   "outputs": [],
   "source": [
    "lgbm_dart = lgb.train(\n",
    "      params = {\n",
    "        'task' : 'train',\n",
    "        'objective' : 'regression',\n",
    "        'boosting':'dart',\n",
    "        'learning_rate':0.005,\n",
    "        'metric' : {'mse'},\n",
    "      },\n",
    "      train_set = lgb_train,\n",
    "      num_boost_round = 600,\n",
    "      valid_sets = [lgb_valid],\n",
    "      callbacks=[save_model()],\n",
    ")"
   ]
  },
  {
   "cell_type": "code",
   "execution_count": null,
   "metadata": {},
   "outputs": [],
   "source": [
    "# Gradient Descent LGBM Model\n",
    "lgbm_gd = lgb.train({\n",
    "        'task' : 'train',\n",
    "        'objective' : 'regression',\n",
    "        'boosting':'gbdt',\n",
    "        'learning_rate':0.05,\n",
    "        'metric' : {'mse'},\n",
    "        'num_leaves':200,\n",
    "        'seed':42,\n",
    "    }, \n",
    "    train_set = lgb_train,\n",
    "    num_boost_round = 10000,\n",
    "    valid_sets = [lgb_valid],\n",
    "    early_stopping_rounds=15)"
   ]
  },
  {
   "cell_type": "code",
   "execution_count": null,
   "metadata": {},
   "outputs": [],
   "source": [
    "from sklearn.metrics import mean_squared_error\n",
    "from sklearn.metrics import mean_absolute_error\n",
    "from matplotlib.ticker import FormatStrFormatter\n",
    "\n",
    "def evaluator(y_pred, y_valid, y_test, pred_frame, plot, save) :\n",
    "    \n",
    "    print('MAE:', mean_absolute_error(y_test[:pred_frame], y_pred[:pred_frame]))\n",
    "    print('MSE:', mean_squared_error(y_test[:pred_frame], y_pred[:pred_frame]))\n",
    "    \n",
    "    if plot:\n",
    "        fig, ax = plt.subplots(figsize=(8, 4)) \n",
    "        plt.plot(pd.concat([y_valid[-pred_frame*2:], y_test[0:pred_frame]]).index, pd.concat([y_valid[-pred_frame*2:], y_test[0:pred_frame]]).values, label='Actual Usage')\n",
    "        plt.plot(y_pred[0:pred_frame].index, y_pred[0:pred_frame].values, label='Forecast Usage')\n",
    "        y_labels = ax.get_yticks()\n",
    "        ax.yaxis.set_major_formatter(FormatStrFormatter('%.2fkw'))\n",
    "        ax.legend(['Actual', 'Forecast'])\n",
    "        plt.xlabel('Date')\n",
    "        plt.ylabel(\"Eletrical Usage\")\n",
    "        plt.title(str(pred_frame) + \"-day forecast energy usage using LightGBM\")\n",
    "        plt.gcf().autofmt_xdate()\n",
    "        if save:\n",
    "            plt.savefig('../Figures/'+str(pred_frame)+'-day.png')\n",
    "    "
   ]
  },
  {
   "cell_type": "code",
   "execution_count": null,
   "metadata": {
    "scrolled": true
   },
   "outputs": [],
   "source": [
    "#make predict dataframe\n",
    "gd_pred_df = pd.DataFrame()\n",
    "gd_pred_df[target] = lgbm_gd.predict(X_test, num_iteration=lgbm_gd.best_iteration)\n",
    "gd_pred_df.index = X_test.index"
   ]
  },
  {
   "cell_type": "code",
   "execution_count": null,
   "metadata": {},
   "outputs": [],
   "source": [
    "# Plot multi-period forecasts\n",
    "# for period in [24,48,7*24,14*24,30*24] :\n",
    "for period in [7,14,30,60,120,360] :\n",
    "    evaluator(gd_pred_df['use'], Y_valid, Y_test, period, plot=True, save=True)"
   ]
  },
  {
   "cell_type": "code",
   "execution_count": null,
   "metadata": {},
   "outputs": [],
   "source": [
    "# get mse and mae as forecast length increases\n",
    "for period in range(0,len(out_df),14) :\n",
    "    evaluator(resampled_df['use'][-len(out_df):], out_df['use'], period)"
   ]
  },
  {
   "cell_type": "code",
   "execution_count": null,
   "metadata": {},
   "outputs": [],
   "source": [
    "fig,axs = plt.subplots(nrows=3, ncols=2, figsize=(18, 12))\n",
    "for ax, pred_frame in zip(axs.flat, [7,14,30,60,120,365]):\n",
    "    ax.plot(pd.concat([Y_valid[-pred_frame*2:], Y_test[0:pred_frame]]).index, pd.concat([Y_valid[-pred_frame*2:], Y_test[0:pred_frame]]).values, label='Actual Usage')\n",
    "    ax.plot(out_df[0:pred_frame].index, out_df[0:pred_frame].values, label='Forecast Usage')\n",
    "    ax.yaxis.set_major_formatter(FormatStrFormatter('%.2fkw'))\n",
    "    ax.legend(['Actual', 'Forecast'])\n",
    "#     ax.set_xlabel('Date')\n",
    "#     ax.set_ylabel(\"Eletrical Usage\")\n",
    "    ax.set_title(str(pred_frame) + \"-day forecast energy usage using LightGBM\")\n",
    "#     ax.gcf().autofmt_xdate()\n",
    "    \n",
    "plt.show()\n"
   ]
  },
  {
   "cell_type": "code",
   "execution_count": null,
   "metadata": {},
   "outputs": [],
   "source": [
    "# Plot multi-period forecasts\n",
    "for period in [7,14,30,60,120,365,len(out_df)] :\n",
    "    evaluator(resampled_df['use'][-len(out_df):], out_df['use'], period)"
   ]
  },
  {
   "cell_type": "code",
   "execution_count": null,
   "metadata": {},
   "outputs": [],
   "source": [
    "lgb.plot_importance(lgbm, figsize=(10, 9))"
   ]
  },
  {
   "cell_type": "code",
   "execution_count": null,
   "metadata": {},
   "outputs": [],
   "source": []
  }
 ],
 "metadata": {
  "kernelspec": {
   "display_name": "Python 3",
   "language": "python",
   "name": "python3"
  },
  "language_info": {
   "codemirror_mode": {
    "name": "ipython",
    "version": 3
   },
   "file_extension": ".py",
   "mimetype": "text/x-python",
   "name": "python",
   "nbconvert_exporter": "python",
   "pygments_lexer": "ipython3",
   "version": "3.8.6"
  }
 },
 "nbformat": 4,
 "nbformat_minor": 4
}
